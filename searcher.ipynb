{
 "cells": [
  {
   "cell_type": "code",
   "execution_count": 18,
   "id": "2871b1b4",
   "metadata": {},
   "outputs": [
    {
     "name": "stdout",
     "output_type": "stream",
     "text": [
      "Please, input your folder with files, example - C:\\Users\\nlebe\\test_dataC:\\\\Users\\\\nlebe\\\\test_data\n",
      "[('tinder', 589658), ('the', 316787), ('and', 270022), ('app', 236406), ('raw', 186375), ('you', 160183), ('ply', 153987), ('single', 150886), ('for', 142568), ('this', 120475)]\n"
     ]
    }
   ],
   "source": [
    "from collections import Counter\n",
    "import os\n",
    "import glob\n",
    "import pandas as pd\n",
    "import re\n",
    "folder = input(\"Please, input your folder with files, example - C:\\\\Users\\\\nlebe\\\\test_data\")\n",
    "os.chdir(folder)\n",
    "extension = 'csv'\n",
    "all_filenames = [i for i in glob.glob('*.{}'.format(extension))]\n",
    "#combine all files in the list\n",
    "combined_csv = pd.concat([pd.read_csv(f) for f in all_filenames ])\n",
    "#export to csv\n",
    "combined_csv.to_csv( \"combined_csv.csv\", index=False, encoding='utf-8-sig')\n",
    "# reading csv file\n",
    "text = open(\"combined_csv.csv\", \"r\", encoding='utf-8-sig')\n",
    "  \n",
    "# joining with space content of text\n",
    "text = ' '.join([i for i in text])  \n",
    "  \n",
    "text = text.replace(\",\", \" \")  \n",
    "text = text.lower()\n",
    "match_pattern = re.findall(r'\\b[a-z]{3,15}\\b', text)\n",
    "  \n",
    "Counter = Counter(match_pattern)  \n",
    "# most_common() produces k frequently encountered\n",
    "# input values and their respective counts.\n",
    "most_occur = Counter.most_common(10)\n",
    "  \n",
    "print(most_occur) "
   ]
  },
  {
   "cell_type": "code",
   "execution_count": 19,
   "id": "e6716d3c",
   "metadata": {},
   "outputs": [
    {
     "data": {
      "text/plain": [
       "<AxesSubplot:xlabel='VALUE'>"
      ]
     },
     "execution_count": 19,
     "metadata": {},
     "output_type": "execute_result"
    },
    {
     "data": {
      "image/png": "[encoded data removed]",
      "text/plain": [
       "<Figure size 432x288 with 1 Axes>"
      ]
     },
     "metadata": {
      "needs_background": "light"
     },
     "output_type": "display_data"
    }
   ],
   "source": [
    "\n",
    "df = pd.DataFrame(most_occur, columns = [\"VALUE\", \"COUNT\"])\n",
    "df[\"COUNT\"]=df[\"COUNT\"].astype(float)\n",
    "top_5 = df.sort_values(by=\"COUNT\", ascending=False).head()\n",
    "top_5.plot(x=\"VALUE\", y=\"COUNT\", kind=\"bar\", rot=5, fontsize=22)\n"
   ]
  },
  {
   "cell_type": "code",
   "execution_count": null,
   "id": "928f9eb2",
   "metadata": {},
   "outputs": [],
   "source": []
  }
 ],
 "metadata": {
  "kernelspec": {
   "display_name": "Python 3 (ipykernel)",
   "language": "python",
   "name": "python3"
  },
  "language_info": {
   "codemirror_mode": {
    "name": "ipython",
    "version": 3
   },
   "file_extension": ".py",
   "mimetype": "text/x-python",
   "name": "python",
   "nbconvert_exporter": "python",
   "pygments_lexer": "ipython3",
   "version": "3.9.7"
  }
 },
 "nbformat": 4,
 "nbformat_minor": 5
}
